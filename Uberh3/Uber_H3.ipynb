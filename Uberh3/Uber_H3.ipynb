{
  "nbformat": 4,
  "nbformat_minor": 0,
  "metadata": {
    "colab": {
      "name": "Uber H3.ipynb",
      "provenance": [],
      "toc_visible": true
    },
    "kernelspec": {
      "name": "python3",
      "display_name": "Python 3"
    }
  },
  "cells": [
    {
      "cell_type": "markdown",
      "metadata": {
        "id": "_dOjAmGXeGvy",
        "colab_type": "text"
      },
      "source": [
        "# **Clustering Data using Uber H3**"
      ]
    },
    {
      "cell_type": "code",
      "metadata": {
        "id": "jPkDhBk1eTXe",
        "colab_type": "code",
        "colab": {
          "base_uri": "https://localhost:8080/",
          "height": 122
        },
        "outputId": "1ab51151-b7e3-4658-b937-8b6f62a3e3d6"
      },
      "source": [
        "pip install h3\n"
      ],
      "execution_count": 2,
      "outputs": [
        {
          "output_type": "stream",
          "text": [
            "Collecting h3\n",
            "\u001b[?25l  Downloading https://files.pythonhosted.org/packages/bf/77/df4b7b3f989cbd3aec5894f6058a31981f05f151f9bbfc3f5827178eeedc/h3-3.6.4-cp36-cp36m-manylinux2010_x86_64.whl (761kB)\n",
            "\u001b[K     |████████████████████████████████| 768kB 2.8MB/s \n",
            "\u001b[?25hInstalling collected packages: h3\n",
            "Successfully installed h3-3.6.4\n"
          ],
          "name": "stdout"
        }
      ]
    },
    {
      "cell_type": "code",
      "metadata": {
        "id": "Tx8iJDi6eB3U",
        "colab_type": "code",
        "colab": {}
      },
      "source": [
        "import numpy as np\n",
        "import pandas as pd\n",
        "import folium\n",
        "import webbrowser\n",
        "import os\n",
        "import math\n",
        "\n",
        "from h3 import h3\n",
        "from folium import Map"
      ],
      "execution_count": 3,
      "outputs": []
    },
    {
      "cell_type": "code",
      "metadata": {
        "id": "Iq-CoVuZgFOo",
        "colab_type": "code",
        "colab": {}
      },
      "source": [
        "dataset = pd.read_csv(\"ev_data_processed.csv\")\n",
        "#Parse string to date time type\n",
        "dataset['time_stamp'] = pd.to_datetime(dataset['time_stamp'], infer_datetime_format= True)\n",
        "Original_indexed_dataset = dataset.set_index(['time_stamp'])"
      ],
      "execution_count": 6,
      "outputs": []
    },
    {
      "cell_type": "code",
      "metadata": {
        "id": "KA1Xfw55epX3",
        "colab_type": "code",
        "colab": {}
      },
      "source": [
        "def create_map(clusters):\n",
        "    # Create the map object\n",
        "    map = Map(tiles=\"cartodbpositron\", \n",
        "          attr= '© <a href=\"http://www.openstreetmap.org/copyright\">OpenStreetMap</a> contributors © <a href=\"http://cartodb.com/attributions#basemaps\">CartoDB</a>')\n",
        "\n",
        "    # Convert the clusters dictionary items to polygons and add them to the map\n",
        "    for cluster in clusters.values():\n",
        "        points = cluster['geom']\n",
        "        \n",
        "        tooltip = \"{0} power\".format(cluster['count'])\n",
        "        polygon = folium.vector_layers.Polygon(locations=points, tooltip=tooltip,fill=True, color='#ff0000', fill_color='#ff0000', fill_opacity=0.4, weight=3, opacity=0.4)\n",
        "        polygon.add_to(map)\n",
        "\n",
        "    # Determine the map bounding box\n",
        "    max_lat = df.Latitude.max()\n",
        "    min_lat = df.Latitude.min()\n",
        "    max_lon = df.Longitude.max()\n",
        "    min_lon = df.Longitude.min()\n",
        "    \n",
        "    # Fit the map to the bounds\n",
        "    map.fit_bounds([[min_lat, min_lon], [max_lat, max_lon]])\n",
        "    \n",
        "    return map"
      ],
      "execution_count": 7,
      "outputs": []
    },
    {
      "cell_type": "code",
      "metadata": {
        "id": "AVCfuFPeg6mg",
        "colab_type": "code",
        "colab": {}
      },
      "source": [
        ""
      ],
      "execution_count": null,
      "outputs": []
    }
  ]
}